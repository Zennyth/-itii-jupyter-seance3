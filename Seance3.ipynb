{
 "cells": [
  {
   "cell_type": "markdown",
   "metadata": {},
   "source": [
    "#Numpy et Array\n",
    "\n",
    "La bibliothèque NumPy (http://www.numpy.org/) permet d’effectuer des calculs numériques avec Python. Elle introduit une gestion facilitée des tableaux de nombres.\n",
    "\n",
    "Il faut au départ importer le package numpy avec l’instruction suivante :"
   ]
  },
  {
   "cell_type": "code",
   "execution_count": 2,
   "metadata": {},
   "outputs": [],
   "source": [
    "import numpy as np"
   ]
  },
  {
   "cell_type": "markdown",
   "metadata": {},
   "source": [
    "Les tableaux - numpy.array()\n",
    "\n",
    "Les tableaux  peuvent être créés avec numpy.array(). On utilise des crochets pour délimiter les listes d’éléments dans les tableaux.\n",
    "\n"
   ]
  },
  {
   "cell_type": "code",
   "execution_count": 3,
   "metadata": {},
   "outputs": [],
   "source": [
    "a = np.array([[1, 2, 3], [4, 5, 6]])"
   ]
  },
  {
   "cell_type": "markdown",
   "metadata": {},
   "source": [
    "Accès aux éléments d’un tableau :"
   ]
  },
  {
   "cell_type": "code",
   "execution_count": 6,
   "metadata": {},
   "outputs": [
    {
     "name": "stdout",
     "output_type": "stream",
     "text": [
      "2\n"
     ]
    }
   ],
   "source": [
    "print(a[0,1])"
   ]
  },
  {
   "cell_type": "markdown",
   "metadata": {},
   "source": [
    "La fonction numpy.arange() permet de créer des listes en fonction de certain parametres:"
   ]
  },
  {
   "cell_type": "code",
   "execution_count": 7,
   "metadata": {},
   "outputs": [],
   "source": [
    "m = np.arange(3, 15, 2)"
   ]
  },
  {
   "cell_type": "markdown",
   "metadata": {},
   "source": [
    "La fonction numpy.linspace() permet d’obtenir un tableau 1D allant d’une valeur de départ à une valeur de fin avec un nombre donné d’éléments."
   ]
  },
  {
   "cell_type": "code",
   "execution_count": null,
   "metadata": {},
   "outputs": [],
   "source": [
    "np.linspace(3, 9, 10)"
   ]
  },
  {
   "cell_type": "markdown",
   "metadata": {},
   "source": [
    "Pour toutes les fonctions que propose numpy, vous pouvez consulter la documentation : https://numpy.org/doc/\n",
    "\n",
    "Le typage faible et dynamique et les limites du language interperté fait de python une solution lente pour traiter les tableaux de grande taille. \n",
    "Dans beaucoup de cas, Numpy fournit une interface pour les opérations standard qui n'implique que des données du même type. Par exemple, on peut calculer les inverses de tous les éléments d'un tableau Numpy :"
   ]
  },
  {
   "cell_type": "code",
   "execution_count": 8,
   "metadata": {},
   "outputs": [],
   "source": [
    "tableau_large = np.random.randint(1, 100, size=1000000)\n",
    "tableau_large = 1.0 / tableau_large"
   ]
  },
  {
   "cell_type": "markdown",
   "metadata": {},
   "source": [
    "Ex 1 :  théorème des valeurs intermédiaires\n",
    "\n",
    "1. Rappel\n",
    "Soit f  une fonction continue définie sur un intervalle I et, a et b deux réels de I.Pour tout réel k compris entre f(a) et f(b), il existe au moins un réel c compris entre a et b tel que f(c)=k.\n",
    "\n",
    "Soit f une fonction continue et strictement monotone sur un intervalle [a;b].Pour tout nombre k compris entre f(a) et f(b), l'équation f(x)=kadmet une unique solution dans l'intervalle [a;b].\n",
    "\n",
    "2. Application\n",
    "Nous considérons dans cet exercice la fonction:fdéfinie sur l'intervalle [0;1], par: f(x)=x^3+2x−2\n",
    "Par la conséquence du théorème des valeurs intermédiaires :  l'équation f(x)=0 admet une unique solution x_0 dans [0;1]\n",
    "* vérifier continuité et stricte monotonie de f sur [0;1]\n",
    "* Pour savoir si x0 se trouve dans [0;0,5]ou dans [0,5;1], il faut vérifier si f(0) et f(0,5)  sont de mêmes signes\n",
    "* proposer un algorithme de recherche pour évaluer x_0 en fonction de $N$, donner par l'utilisateur\n"
   ]
  },
  {
   "cell_type": "markdown",
   "metadata": {},
   "source": [
    "Ex 2: Carrés magiques\n",
    "Uncarré magiqueest un tableau carré de taillen×nqui contient tous les entiers de1 àn2et qui vérifieque : la somme de chaque ligne, la somme de chaque colonne, la somme de la diagonale principale et lasomme de l’anti-diagonale ont toutes la même valeur.\n",
    "\n",
    "Pour un carré magique de taillen×n, la valeur de la somme est : S_n=n(n^2+1)/2\n",
    "\n",
    "1. Définir un tableau pour chacun des exemples3×3 et 4×4\n",
    "2. Définir une fonctionest_carre_magique(carre)qui teste si un tableaudonné est (ou pas) un carré magique\n",
    "3. Génèrer de façon aléatoire des carrés contenant les entiers de1 àn2grâce à une fonctioncarre_aleatoire(n). \n",
    "4. Définir la probabilité d'obtenir un carrée magique\n",
    "5. Définir une fonctionaddition_carre(carre,k)qui ajoute un entierkà tous les élé-ments du carré.\n"
   ]
  },
  {
   "cell_type": "code",
   "execution_count": 74,
   "metadata": {},
   "outputs": [
    {
     "name": "stdout",
     "output_type": "stream",
     "text": [
      "0.0\n",
      "strictement croissante\n",
      "0.875\n"
     ]
    }
   ],
   "source": [
    "#Exercice 1\n",
    "import math\n",
    "from sympy import Symbol, S\n",
    "from sympy.calculus.util import continuous_domain\n",
    "from sympy.sets import Interval\n",
    "\n",
    "def fu(x): # Avec x appartient \n",
    "    return math.pow(x, 3) + 2*x - 2\n",
    "\n",
    "x = Symbol(\"x\")\n",
    "f = x**3 + 2*x - 2\n",
    "continuous_domain(f, x, Interval(0, 1))\n",
    "\n",
    "import numpy as np\n",
    "\n",
    "def check_monotony(accuracy):\n",
    "    domain = np.linspace(0,1, accuracy)\n",
    "    monotony = [0,0,0]\n",
    "    print(domain[0])\n",
    "    for i in range(1, len(domain)-1):\n",
    "        if fu(domain[i-1]) == fu(domain[i+1]):\n",
    "            monotony[0] += 1\n",
    "        elif fu(domain[i-1]) > fu(domain[i+1]):\n",
    "            monotony[1] += 1\n",
    "        else:\n",
    "            monotony[2] += 1\n",
    "    if len(domain)-2 == monotony[0]:\n",
    "        print(\"constante\")\n",
    "    elif len(domain)-2 == monotony[1]:\n",
    "        print(\"strictement decroissante\")\n",
    "    elif len(domain)-2 == monotony[2]:\n",
    "        print(\"strictement croissante\")\n",
    "    else:\n",
    "        print(\"Nada\")\n",
    "\n",
    "check_monotony(10000)\n",
    "\n",
    "def check_sign(x, y):\n",
    "    return True if fu(x)*f(y) > 0 else False\n",
    "\n",
    "def dichotomie(e, n):\n",
    "    x,y = (0, 1)\n",
    "    diff = y-x\n",
    "    i = 0\n",
    "    while diff > e and i < n:\n",
    "        m = (x+y)/2\n",
    "        if fu(m) > 0:\n",
    "            y = m\n",
    "        else:\n",
    "            x = m\n",
    "        diff = y-x\n",
    "        i += 1\n",
    "    return m\n",
    "            \n",
    "print(dichotomie(0.001, 3)) "
   ]
  },
  {
   "cell_type": "code",
   "execution_count": 76,
   "metadata": {},
   "outputs": [
    {
     "name": "stdout",
     "output_type": "stream",
     "text": [
      "[[2 8 7]\n",
      " [2 5 2]\n",
      " [5 2 8]]\n",
      "0.036\n",
      "[[ 4  9  8]\n",
      " [11  7  3]\n",
      " [ 6  5 10]]\n"
     ]
    }
   ],
   "source": [
    "#Exercice 2\n",
    "import numpy as np\n",
    "\n",
    "array_3 = np.array([[2,7,6], [9,5,1], [4,3,8]])\n",
    "array_4 = np.array([[1,6,7,4], [4,7,6,1], [8,3,2,5], [5,2,3,8]])\n",
    "\n",
    "def test_carre_magique(array):\n",
    "    #init checking val\n",
    "    val = 0\n",
    "    for i in range(0, len(array)):\n",
    "        val += array[i][0]\n",
    "    \n",
    "    #Horizontaly\n",
    "    check = 0\n",
    "    for i in range(0, len(array)):\n",
    "        for j in range(0, len(array[i])):\n",
    "            check += array[i][j]\n",
    "        \n",
    "        if(check != val):\n",
    "            return False\n",
    "        else:\n",
    "            check = 0\n",
    "    \n",
    "    #Verticaly\n",
    "    for i in range(0,len(array)):\n",
    "        for j in range(0,len(array)):\n",
    "            check += array[j][i]\n",
    "        \n",
    "        if(check != val):\n",
    "            return False\n",
    "        else:\n",
    "            check = 0\n",
    "            \n",
    "    #Diagonaly\n",
    "    first_diag = sum(array[i][i] for i in range(0, len(array)))\n",
    "    second_diag = sum(array[i][len(array)-i-1] for i in range(0,len(array)))\n",
    "    \n",
    "    if(first_diag != val or second_diag != val):\n",
    "        return False\n",
    "    return True\n",
    "\n",
    "def carre_aleatoire(size):\n",
    "    return np.random.randint(1, size**2, size=(size, size))\n",
    "\n",
    "def proba():\n",
    "    nbCarreValide = 0\n",
    "    for i in range(0,10000):\n",
    "        if(test_carre_magique(carre_aleatoire(2))):\n",
    "            nbCarreValide+=1\n",
    "    \n",
    "    return nbCarreValide/10000\n",
    "\n",
    "def addition_carre(array, n):\n",
    "    return array+n\n",
    "\n",
    "#print(test_carre_magique(array_3))\n",
    "test_carre_magique(array_3)\n",
    "test_carre_magique(array_4)\n",
    "print(carre_aleatoire(3))\n",
    "print(proba())\n",
    "print(addition_carre(array_3,2))"
   ]
  }
 ],
 "metadata": {
  "kernelspec": {
   "display_name": "Python 3",
   "language": "python",
   "name": "python3"
  },
  "language_info": {
   "codemirror_mode": {
    "name": "ipython",
    "version": 3
   },
   "file_extension": ".py",
   "mimetype": "text/x-python",
   "name": "python",
   "nbconvert_exporter": "python",
   "pygments_lexer": "ipython3",
   "version": "3.7.6"
  }
 },
 "nbformat": 4,
 "nbformat_minor": 4
}
